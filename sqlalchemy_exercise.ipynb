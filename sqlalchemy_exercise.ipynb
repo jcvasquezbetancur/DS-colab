{
  "nbformat": 4,
  "nbformat_minor": 0,
  "metadata": {
    "colab": {
      "name": "sqlalchemy-exercise.ipynb",
      "provenance": [],
      "authorship_tag": "ABX9TyOPrN3n7YSwEgwT8gZq01eZ",
      "include_colab_link": true
    },
    "kernelspec": {
      "name": "python3",
      "display_name": "Python 3"
    },
    "language_info": {
      "name": "python"
    }
  },
  "cells": [
    {
      "cell_type": "markdown",
      "metadata": {
        "id": "view-in-github",
        "colab_type": "text"
      },
      "source": [
        "<a href=\"https://colab.research.google.com/github/jcvasquezbetancur/DS-colab/blob/master/sqlalchemy_exercise.ipynb\" target=\"_parent\"><img src=\"https://colab.research.google.com/assets/colab-badge.svg\" alt=\"Open In Colab\"/></a>"
      ]
    },
    {
      "cell_type": "code",
      "metadata": {
        "id": "JjyEL_mv4rwt"
      },
      "source": [
        "pip install sqlalchemy -q"
      ],
      "execution_count": null,
      "outputs": []
    },
    {
      "cell_type": "code",
      "metadata": {
        "id": "dgqtdSSi5GE5"
      },
      "source": [
        "import sqlalchemy as db"
      ],
      "execution_count": null,
      "outputs": []
    },
    {
      "cell_type": "code",
      "metadata": {
        "colab": {
          "base_uri": "https://localhost:8080/"
        },
        "id": "T72zsMMB5F1H",
        "outputId": "4f4867d7-1dc0-462f-a488-f65716099a05"
      },
      "source": [
        "from sqlalchemy import create_engine, MetaData, Table, Column,Sequence, Integer, String\n",
        "engine = create_engine('sqlite:///college.db', echo = True)\n",
        "meta = MetaData()\n",
        "\n",
        "students = Table(\n",
        "   'students', meta, \n",
        "   Column('id', Integer, primary_key = True), \n",
        "   Column('name', String), \n",
        "   Column('lastname', String),\n",
        ")\n",
        "meta.create_all(engine)\n",
        "print(\"these are columns in our table %s\" %(students.columns.keys()))\n"
      ],
      "execution_count": null,
      "outputs": [
        {
          "output_type": "stream",
          "text": [
            "2021-06-16 18:20:10,591 INFO sqlalchemy.engine.Engine BEGIN (implicit)\n",
            "2021-06-16 18:20:10,593 INFO sqlalchemy.engine.Engine PRAGMA main.table_info(\"students\")\n",
            "2021-06-16 18:20:10,598 INFO sqlalchemy.engine.Engine [raw sql] ()\n",
            "2021-06-16 18:20:10,602 INFO sqlalchemy.engine.Engine COMMIT\n",
            "these are columns in our table ['id', 'name', 'lastname']\n"
          ],
          "name": "stdout"
        }
      ]
    },
    {
      "cell_type": "markdown",
      "metadata": {
        "id": "s_ICTw_H7SSn"
      },
      "source": [
        "#insertion"
      ]
    },
    {
      "cell_type": "code",
      "metadata": {
        "colab": {
          "base_uri": "https://localhost:8080/"
        },
        "id": "4T9xQmDp7Q1m",
        "outputId": "c077a615-6f7d-4bab-904a-9de96a75c9e3"
      },
      "source": [
        "ins = students.insert()\n",
        "ins = students.insert().values(name = 'Juan', lastname = 'Vasquez')\n",
        "conn = engine.connect()\n",
        "result = conn.execute(ins)"
      ],
      "execution_count": null,
      "outputs": [
        {
          "output_type": "stream",
          "text": [
            "2021-06-16 17:45:43,501 INFO sqlalchemy.engine.Engine INSERT INTO students (name, lastname) VALUES (?, ?)\n",
            "2021-06-16 17:45:43,506 INFO sqlalchemy.engine.Engine [generated in 0.00219s] ('Juan', 'Vasquez')\n",
            "2021-06-16 17:45:43,509 INFO sqlalchemy.engine.Engine COMMIT\n"
          ],
          "name": "stdout"
        }
      ]
    },
    {
      "cell_type": "code",
      "metadata": {
        "colab": {
          "base_uri": "https://localhost:8080/"
        },
        "id": "6rQD0D6h7qt8",
        "outputId": "a5c0e216-39fa-494f-aafe-295c9cd17cba"
      },
      "source": [
        "conn.execute(students.insert(), [\n",
        "   {'name':'Bhaskar', 'lastname' : 'guptha'},\n",
        "   {'name':'vibhav','lastname' : 'kumar'},\n",
        "   {'name':'prudhvi','lastname' : 'varma'},\n",
        "   {'name':'manoj','lastname' : 'varma'},\n",
        "])"
      ],
      "execution_count": null,
      "outputs": [
        {
          "output_type": "stream",
          "text": [
            "2021-06-16 17:47:05,850 INFO sqlalchemy.engine.Engine INSERT INTO students (name, lastname) VALUES (?, ?)\n",
            "2021-06-16 17:47:05,852 INFO sqlalchemy.engine.Engine [generated in 0.00231s] (('Bhaskar', 'guptha'), ('vibhav', 'kumar'), ('prudhvi', 'varma'), ('manoj', 'varma'))\n",
            "2021-06-16 17:47:05,856 INFO sqlalchemy.engine.Engine COMMIT\n"
          ],
          "name": "stdout"
        },
        {
          "output_type": "execute_result",
          "data": {
            "text/plain": [
              "<sqlalchemy.engine.cursor.LegacyCursorResult at 0x7f45b5ee95d0>"
            ]
          },
          "metadata": {
            "tags": []
          },
          "execution_count": 5
        }
      ]
    },
    {
      "cell_type": "markdown",
      "metadata": {
        "id": "10wWvWfd8NoT"
      },
      "source": [
        "#delete a matching\n"
      ]
    },
    {
      "cell_type": "code",
      "metadata": {
        "colab": {
          "base_uri": "https://localhost:8080/"
        },
        "id": "14Jshbhi8AUs",
        "outputId": "061bf69f-1016-42ff-9079-9464332f1f30"
      },
      "source": [
        "conn = engine.connect()\n",
        "stmt = students.delete().where(students.c.name == 'manoj')\n",
        "conn.execute(stmt)\n",
        "s = students.select()\n",
        "conn.execute(s).fetchall()"
      ],
      "execution_count": null,
      "outputs": [
        {
          "output_type": "stream",
          "text": [
            "2021-06-16 18:20:20,336 INFO sqlalchemy.engine.Engine DELETE FROM students WHERE students.name = ?\n",
            "2021-06-16 18:20:20,338 INFO sqlalchemy.engine.Engine [generated in 0.00207s] ('manoj',)\n",
            "2021-06-16 18:20:20,345 INFO sqlalchemy.engine.Engine COMMIT\n",
            "2021-06-16 18:20:20,351 INFO sqlalchemy.engine.Engine SELECT students.id, students.name, students.lastname \n",
            "FROM students\n",
            "2021-06-16 18:20:20,353 INFO sqlalchemy.engine.Engine [generated in 0.00373s] ()\n"
          ],
          "name": "stdout"
        },
        {
          "output_type": "execute_result",
          "data": {
            "text/plain": [
              "[(1, 'Dr.Juan C.', 'Vasquez'),\n",
              " (2, 'Bhaskar', 'guptha'),\n",
              " (3, 'vibhav', 'kumar'),\n",
              " (4, 'prudhvi', 'varma')]"
            ]
          },
          "metadata": {
            "tags": []
          },
          "execution_count": 20
        }
      ]
    },
    {
      "cell_type": "markdown",
      "metadata": {
        "id": "tqiEMKMI8Rdn"
      },
      "source": [
        "#update an entrie"
      ]
    },
    {
      "cell_type": "code",
      "metadata": {
        "colab": {
          "base_uri": "https://localhost:8080/"
        },
        "id": "1lbHOZRM8Qqn",
        "outputId": "35e1fabb-7f19-46a1-f859-9c53bf30f534"
      },
      "source": [
        "stmt=students.update().where(students.c.name=='Juan').values(name='Dr.Juan C.')\n",
        "conn.execute(stmt)\n",
        "s = students.select()\n",
        "conn.execute(s).fetchall()"
      ],
      "execution_count": null,
      "outputs": [
        {
          "output_type": "stream",
          "text": [
            "2021-06-16 17:49:46,179 INFO sqlalchemy.engine.Engine UPDATE students SET name=? WHERE students.name = ?\n",
            "2021-06-16 17:49:46,187 INFO sqlalchemy.engine.Engine [generated in 0.00841s] ('Dr.Juan C.', 'Juan')\n",
            "2021-06-16 17:49:46,191 INFO sqlalchemy.engine.Engine COMMIT\n",
            "2021-06-16 17:49:46,207 INFO sqlalchemy.engine.Engine SELECT students.id, students.name, students.lastname \n",
            "FROM students\n",
            "2021-06-16 17:49:46,208 INFO sqlalchemy.engine.Engine [cached since 68.91s ago] ()\n"
          ],
          "name": "stdout"
        },
        {
          "output_type": "execute_result",
          "data": {
            "text/plain": [
              "[(1, 'Dr.Juan C.', 'Vasquez'),\n",
              " (2, 'Bhaskar', 'guptha'),\n",
              " (3, 'vibhav', 'kumar'),\n",
              " (4, 'prudhvi', 'varma')]"
            ]
          },
          "metadata": {
            "tags": []
          },
          "execution_count": 7
        }
      ]
    },
    {
      "cell_type": "markdown",
      "metadata": {
        "id": "pj-kX9bn8ocS"
      },
      "source": [
        "# filtering/retrieval"
      ]
    },
    {
      "cell_type": "code",
      "metadata": {
        "colab": {
          "base_uri": "https://localhost:8080/"
        },
        "id": "98iyH3z78rt0",
        "outputId": "2d3e1d1e-15ba-448b-d9c0-b1e18ede37f2"
      },
      "source": [
        "choosen_lastname =[ 'kumar', 'varma']\n",
        "s = students.select().where(students.c.lastname.in_(choosen_lastname)  )\n",
        "result = conn.execute(s)\n",
        "for row in result:\n",
        "   print (row)"
      ],
      "execution_count": null,
      "outputs": [
        {
          "output_type": "stream",
          "text": [
            "2021-06-16 17:59:43,237 INFO sqlalchemy.engine.Engine SELECT students.id, students.name, students.lastname \n",
            "FROM students \n",
            "WHERE students.lastname IN (?, ?)\n",
            "2021-06-16 17:59:43,240 INFO sqlalchemy.engine.Engine [generated in 0.00283s] ('kumar', 'varma')\n",
            "(3, 'vibhav', 'kumar')\n",
            "(4, 'prudhvi', 'varma')\n"
          ],
          "name": "stdout"
        }
      ]
    },
    {
      "cell_type": "markdown",
      "metadata": {
        "id": "RkTRQVIhBj-8"
      },
      "source": [
        "# Let's bind a session to connect directly."
      ]
    },
    {
      "cell_type": "code",
      "metadata": {
        "id": "fU4OdPIqBotR"
      },
      "source": [
        "from sqlalchemy.orm import sessionmaker\n",
        "Session = sessionmaker(bind=engine)"
      ],
      "execution_count": null,
      "outputs": []
    },
    {
      "cell_type": "code",
      "metadata": {
        "id": "6J8UPhH5B9p1"
      },
      "source": [
        "session=Session()"
      ],
      "execution_count": null,
      "outputs": []
    },
    {
      "cell_type": "code",
      "metadata": {
        "id": "Vlq9_bgCDAPy"
      },
      "source": [
        "from sqlalchemy.orm import declarative_base\n",
        "Base = declarative_base()"
      ],
      "execution_count": null,
      "outputs": []
    },
    {
      "cell_type": "code",
      "metadata": {
        "id": "ixs6NI1JCk2E"
      },
      "source": [
        "class studentclass(Base):\n",
        "    __tablename__ = 'students'\n",
        "    id = Column(Integer, primary_key=True)\n",
        "    name = Column(String(50))\n",
        "    lastname = Column(String(50))\n",
        "   \n",
        "    def __repr__(self):\n",
        "        return \"<User(name='%s', lastname='%s')>\" % (\n",
        "                                self.name, self.lastname)"
      ],
      "execution_count": null,
      "outputs": []
    },
    {
      "cell_type": "code",
      "metadata": {
        "id": "J_rANitdB_mI"
      },
      "source": [
        "new_user = studentclass(name='ed', lastname='edslastname')\n",
        "session.add(new_user)"
      ],
      "execution_count": null,
      "outputs": []
    },
    {
      "cell_type": "code",
      "metadata": {
        "colab": {
          "base_uri": "https://localhost:8080/"
        },
        "id": "ANE8jwukESPq",
        "outputId": "87302d65-8ab0-4a4d-9f8a-b8ff202ba77c"
      },
      "source": [
        "first_student = session.query(students).filter_by(lastname='Vasquez').first()\n",
        "first_student"
      ],
      "execution_count": null,
      "outputs": [
        {
          "output_type": "stream",
          "text": [
            "2021-06-16 18:26:07,809 INFO sqlalchemy.engine.Engine SELECT students.id AS students_id, students.name AS students_name, students.lastname AS students_lastname \n",
            "FROM students \n",
            "WHERE students.lastname = ?\n",
            " LIMIT ? OFFSET ?\n",
            "2021-06-16 18:26:07,817 INFO sqlalchemy.engine.Engine [generated in 0.00847s] ('Vasquez', 1, 0)\n"
          ],
          "name": "stdout"
        },
        {
          "output_type": "execute_result",
          "data": {
            "text/plain": [
              "(1, 'Dr.Juan C.', 'Vasquez')"
            ]
          },
          "metadata": {
            "tags": []
          },
          "execution_count": 39
        }
      ]
    },
    {
      "cell_type": "code",
      "metadata": {
        "colab": {
          "base_uri": "https://localhost:8080/"
        },
        "id": "WVQs9on6E_A_",
        "outputId": "d6c64c89-77d1-42a0-b72a-0844216a020b"
      },
      "source": [
        "session.add_all([\n",
        "...     studentclass(name='wendy', lastname='Williams')])\n",
        "session.commit()"
      ],
      "execution_count": null,
      "outputs": [
        {
          "output_type": "stream",
          "text": [
            "2021-06-16 18:28:18,560 INFO sqlalchemy.engine.Engine INSERT INTO students (name, lastname) VALUES (?, ?)\n",
            "2021-06-16 18:28:18,567 INFO sqlalchemy.engine.Engine [cached since 166.2s ago] ('wendy', 'Williams')\n",
            "2021-06-16 18:28:18,571 INFO sqlalchemy.engine.Engine COMMIT\n"
          ],
          "name": "stdout"
        }
      ]
    },
    {
      "cell_type": "code",
      "metadata": {
        "colab": {
          "base_uri": "https://localhost:8080/"
        },
        "id": "ek2LbSYuFTVS",
        "outputId": "eb3b6786-15d6-41a8-b304-f6e89ad9cdfe"
      },
      "source": [
        "new_user.id"
      ],
      "execution_count": null,
      "outputs": [
        {
          "output_type": "execute_result",
          "data": {
            "text/plain": [
              "5"
            ]
          },
          "metadata": {
            "tags": []
          },
          "execution_count": 42
        }
      ]
    },
    {
      "cell_type": "code",
      "metadata": {
        "colab": {
          "base_uri": "https://localhost:8080/"
        },
        "id": "itM95Q01FWMU",
        "outputId": "16b4fd58-6101-42e1-c17d-82d3b092e64b"
      },
      "source": [
        "session.execute(students.select()).fetchall()"
      ],
      "execution_count": null,
      "outputs": [
        {
          "output_type": "stream",
          "text": [
            "2021-06-16 18:34:17,443 INFO sqlalchemy.engine.Engine SELECT students.id, students.name, students.lastname \n",
            "FROM students\n",
            "2021-06-16 18:34:17,446 INFO sqlalchemy.engine.Engine [generated in 0.00386s] ()\n"
          ],
          "name": "stdout"
        },
        {
          "output_type": "execute_result",
          "data": {
            "text/plain": [
              "[(1, 'Dr.Juan C.', 'Vasquez'),\n",
              " (2, 'Bhaskar', 'guptha'),\n",
              " (3, 'vibhav', 'kumar'),\n",
              " (4, 'prudhvi', 'varma'),\n",
              " (5, 'ed', 'edslastname'),\n",
              " (6, 'wendy', 'Williams')]"
            ]
          },
          "metadata": {
            "tags": []
          },
          "execution_count": 49
        }
      ]
    },
    {
      "cell_type": "code",
      "metadata": {
        "colab": {
          "base_uri": "https://localhost:8080/"
        },
        "id": "RFTn8kviGoB9",
        "outputId": "292ce76d-a686-4f3b-ba89-d221e0e79f42"
      },
      "source": [
        "for instance in session.query(students).order_by(studentclass.name):\n",
        "  print(instance.name, instance.lastname)\n"
      ],
      "execution_count": null,
      "outputs": [
        {
          "output_type": "stream",
          "text": [
            "2021-06-16 18:38:49,532 INFO sqlalchemy.engine.Engine SELECT students.id AS students_id, students.name AS students_name, students.lastname AS students_lastname \n",
            "FROM students ORDER BY students.name\n",
            "2021-06-16 18:38:49,535 INFO sqlalchemy.engine.Engine [generated in 0.00404s] ()\n",
            "Bhaskar guptha\n",
            "Dr.Juan C. Vasquez\n",
            "ed edslastname\n",
            "prudhvi varma\n",
            "vibhav kumar\n",
            "wendy Williams\n"
          ],
          "name": "stdout"
        }
      ]
    },
    {
      "cell_type": "code",
      "metadata": {
        "colab": {
          "base_uri": "https://localhost:8080/"
        },
        "id": "unfmNJ8YGQrs",
        "outputId": "bdaa3df2-1cc6-4dc5-e4da-b8074c70f5a7"
      },
      "source": [
        "for instance in session.query(students).order_by(studentclass.name.ilike('')):\n",
        "  print(instance.name, instance.lastname)"
      ],
      "execution_count": null,
      "outputs": [
        {
          "output_type": "stream",
          "text": [
            "2021-06-16 18:42:09,781 INFO sqlalchemy.engine.Engine SELECT students.id AS students_id, students.name AS students_name, students.lastname AS students_lastname \n",
            "FROM students ORDER BY lower(students.name) LIKE lower(?)\n",
            "2021-06-16 18:42:09,785 INFO sqlalchemy.engine.Engine [cached since 26.09s ago] ('',)\n",
            "Dr.Juan C. Vasquez\n",
            "Bhaskar guptha\n",
            "vibhav kumar\n",
            "prudhvi varma\n",
            "ed edslastname\n",
            "wendy Williams\n"
          ],
          "name": "stdout"
        }
      ]
    }
  ]
}