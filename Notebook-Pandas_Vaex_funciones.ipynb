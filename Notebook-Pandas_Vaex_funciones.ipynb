{
  "nbformat": 4,
  "nbformat_minor": 0,
  "metadata": {
    "colab": {
      "name": "tallerPandas-Vaex-funciones.ipynb",
      "provenance": [],
      "include_colab_link": true
    },
    "kernelspec": {
      "name": "python3",
      "display_name": "Python 3"
    }
  },
  "cells": [
    {
      "cell_type": "markdown",
      "metadata": {
        "id": "view-in-github",
        "colab_type": "text"
      },
      "source": [
        "<a href=\"https://colab.research.google.com/github/jcvasquezbetancur/DS-colab/blob/master/Notebook-Pandas_Vaex_funciones.ipynb\" target=\"_parent\"><img src=\"https://colab.research.google.com/assets/colab-badge.svg\" alt=\"Open In Colab\"/></a>"
      ]
    },
    {
      "cell_type": "markdown",
      "metadata": {
        "id": "Q3-a0G2SORT8",
        "colab_type": "text"
      },
      "source": [
        "<p><img alt=\"Colaboratory logo\" height=\"240px\" src=\"https://upload.wikimedia.org/wikipedia/commons/archive/f/fb/20161010213812%21Escudo-UdeA.svg\" align=\"left\" hspace=\"10px\" vspace=\"0px\"></p>\n",
        "\n",
        "# **Taller de modulo VAEX-Pandas y funciones en COLABORATORY** #\n",
        "________________________________________\n",
        "**Diseño original: Juan C.Vásquez B.**       \n",
        "*Curso Fundamentos en la Computación*     \n",
        "*Grupo #11 y Grupo #12 Semestre 2020-I*    \n",
        "*Instituto de Física*  \n",
        "*Universidad de Antioquia*   \n",
        "*juan.vasquez8@udea.edu.co*\n",
        "______________________________________\n",
        "*Esta versión está actualizada a 16-06-2020*\n",
        "\n",
        "\n",
        ">  **Materiales complementarios**:\n",
        "\n",
        "1. [Tutorial oficial de la librería VAEX](https://docs.vaex.io/en/latest/tutorial.html)"
      ]
    },
    {
      "cell_type": "markdown",
      "metadata": {
        "id": "lzg74rcMQRX2",
        "colab_type": "text"
      },
      "source": [
        "## VAEX: módulo PANDAS-like y out-of-core  para BigData#\n",
        "\n",
        ">**Historia**     \n",
        " * Author- Maarten A. Breddels\n",
        " * First Release- Feb-2015 \n",
        " * Stable Release (v0.5.2)- June, 2019\n",
        " * Written in- C and Python.\n",
        "\n",
        "**Origen**\n",
        "\n",
        "Breddels realizaba su PhD en astrofísica cuando desarrolló Vaex. Su problema era que GAIA una base de datos tabular con observaciones astronómicas  posee varios Terabytes (TB) de tamaño y sólo unas galaxias pueden tomar decenas de Gigabytes(GB). Naturalmente PANDAS es incapaz de lidiar por si solo con tales tamaños de datos y cargar archivos de una sola galaxia puede usar toda la RAM disponible de la mayoria de PC/Laptop personales (ejm Colab brinda 12GB de RAM) probablemente haciendo colapsar el sistema operativo ya sea este windows/unix. \n",
        "\n",
        "La opción más sofisticada (e.g. las usadas por bases de datos enormes tales que las de compañias como Facebook, Youtube, Uber,Amazon) consiste en usar sistemas distribuidos (es decir clusters o granjas de cómputo) ya sea in-situ  o en la nube( google-cloud, aws, azure), pero en ambos casos es también la opción mas onerosa, agregado al hecho de tener que manejar nuevos paradigmas de computo como APACHE y librerias como pySpark o Dask.\n",
        "\n",
        "La otra opción, muy viable y práctica a pequeña escala (el usuario promedio)  fué la tomada por Breddels: **Leer los datos y procesarlos directamente desde la unidad de almacenamiento** (e.g Disco duro,DVD) y no cargarlos a la RAM excepto cuando sea necesario y en tal caso hacerlo por pedazos (o chunks). Manteniendo una interacción con los datos muy similar pero no idéntica al modulo PANDAS, de ésta idea nació VAEX.\n",
        "\n",
        ">**Qué es Vaex (tomado del FAQ vaex oficial website)**\n",
        "Vaex is a python library for lazy Out-of-Core DataFrames (similar to Pandas), to visualize and explore big tabular datasets. It can calculate statistics such as mean, sum, count, standard deviation etc, on an N-dimensional grid up to a billion ($10^9$) objects/rows per second. Visualization is done using histograms, density plots and 3d volume rendering, allowing interactive exploration of big data. Vaex uses memory mapping, a zero memory copy policy, and lazy computations for best performance (no memory wasted)."
      ]
    },
    {
      "cell_type": "markdown",
      "metadata": {
        "id": "d-t18RQlO4v_",
        "colab_type": "text"
      },
      "source": [
        "## Setup  del Environment para VAEX en COLAB##\n",
        "* El siguiente conjunto de comandos pip permite instalar y reajustar el ambiente de colab para usar Vaex correctamente en el kernel online de Colaboratory. \n",
        "* Actualmente (18-06-2020) requieren ser ejecutados 2 veces así: Tras el primer intento aparecen algunos errores y se repite la ejecucución indicando la opcion \"**reiniciar y ejecutar todo**\" desde el menu de entorno de ejecución.\n",
        "\n",
        "* Dicho esto, esto puede evolucionar o tornarse obsoleto con futuras actualizaciones que google realice en su kernel y version de Ipython (v5.5.0 actualmente :*Versión de éste Notebook actualizada a 16-06-2020* )\n",
        "\n",
        "*La opcion **--quiet** evita centenas de lineas de librerias y dependencias que son instaladas por estos comandos* \n",
        "\n",
        "**el infierno que puede ocultar  --quiet**\n",
        "<p><img alt=\"Python hell\" height=\"350px\" src=\"https://imgs.xkcd.com/comics/python_environment.png\" align=\"left\" hspace=\"10px\" vspace=\"0px\"></p>\n"
      ]
    },
    {
      "cell_type": "code",
      "metadata": {
        "id": "Jxsq4Le9B4kA",
        "colab_type": "code",
        "colab": {
          "base_uri": "https://localhost:8080/",
          "height": 801
        },
        "outputId": "5b6fabf5-7daf-4223-a332-9b15b50d32fd"
      },
      "source": [
        "!pip install vaex --quiet\n",
        "!pip install \"ipython>6\" --quiet\n",
        "import vaex as pdv\n",
        "import numpy as np\n",
        "import pandas as pd"
      ],
      "execution_count": 1,
      "outputs": [
        {
          "output_type": "stream",
          "text": [
            "\u001b[K     |████████████████████████████████| 92kB 6.0MB/s \n",
            "\u001b[K     |████████████████████████████████| 2.4MB 19.8MB/s \n",
            "\u001b[K     |████████████████████████████████| 51kB 6.4MB/s \n",
            "\u001b[K     |████████████████████████████████| 51kB 5.7MB/s \n",
            "\u001b[K     |████████████████████████████████| 63.8MB 55kB/s \n",
            "\u001b[K     |████████████████████████████████| 4.7MB 47.0MB/s \n",
            "\u001b[K     |████████████████████████████████| 460kB 47.7MB/s \n",
            "\u001b[K     |████████████████████████████████| 5.1MB 39.1MB/s \n",
            "\u001b[K     |████████████████████████████████| 3.3MB 51.4MB/s \n",
            "\u001b[K     |████████████████████████████████| 2.9MB 40.3MB/s \n",
            "\u001b[K     |████████████████████████████████| 1.6MB 38.9MB/s \n",
            "\u001b[K     |████████████████████████████████| 4.5MB 43.5MB/s \n",
            "\u001b[K     |████████████████████████████████| 1.1MB 22.8MB/s \n",
            "\u001b[K     |████████████████████████████████| 256kB 54.0MB/s \n",
            "\u001b[?25h  Building wheel for s3fs (setup.py) ... \u001b[?25l\u001b[?25hdone\n",
            "  Building wheel for aplus (setup.py) ... \u001b[?25l\u001b[?25hdone\n",
            "  Building wheel for ipyvuetify (setup.py) ... \u001b[?25l\u001b[?25hdone\n",
            "  Building wheel for ipyvue (setup.py) ... \u001b[?25l\u001b[?25hdone\n",
            "\u001b[31mERROR: datascience 0.10.6 has requirement folium==0.2.1, but you'll have folium 0.8.3 which is incompatible.\u001b[0m\n",
            "\u001b[K     |████████████████████████████████| 788kB 7.0MB/s \n",
            "\u001b[K     |████████████████████████████████| 358kB 18.7MB/s \n",
            "\u001b[31mERROR: jupyter-console 5.2.0 has requirement prompt-toolkit<2.0.0,>=1.0.0, but you'll have prompt-toolkit 3.0.5 which is incompatible.\u001b[0m\n",
            "\u001b[31mERROR: google-colab 1.0.0 has requirement ipython~=5.5.0, but you'll have ipython 7.15.0 which is incompatible.\u001b[0m\n",
            "\u001b[?25h"
          ],
          "name": "stdout"
        },
        {
          "output_type": "error",
          "ename": "ContextualVersionConflict",
          "evalue": "ignored",
          "traceback": [
            "\u001b[0;31m---------------------------------------------------------------------------\u001b[0m",
            "\u001b[0;31mContextualVersionConflict\u001b[0m                 Traceback (most recent call last)",
            "\u001b[0;32m<ipython-input-1-b2b2c6deb8eb>\u001b[0m in \u001b[0;36m<module>\u001b[0;34m()\u001b[0m\n\u001b[1;32m      1\u001b[0m \u001b[0mget_ipython\u001b[0m\u001b[0;34m(\u001b[0m\u001b[0;34m)\u001b[0m\u001b[0;34m.\u001b[0m\u001b[0msystem\u001b[0m\u001b[0;34m(\u001b[0m\u001b[0;34m'pip install vaex --quiet'\u001b[0m\u001b[0;34m)\u001b[0m\u001b[0;34m\u001b[0m\u001b[0;34m\u001b[0m\u001b[0m\n\u001b[1;32m      2\u001b[0m \u001b[0mget_ipython\u001b[0m\u001b[0;34m(\u001b[0m\u001b[0;34m)\u001b[0m\u001b[0;34m.\u001b[0m\u001b[0msystem\u001b[0m\u001b[0;34m(\u001b[0m\u001b[0;34m'pip install \"ipython>6\" --quiet'\u001b[0m\u001b[0;34m)\u001b[0m\u001b[0;34m\u001b[0m\u001b[0;34m\u001b[0m\u001b[0m\n\u001b[0;32m----> 3\u001b[0;31m \u001b[0;32mimport\u001b[0m \u001b[0mvaex\u001b[0m \u001b[0;32mas\u001b[0m \u001b[0mpdv\u001b[0m\u001b[0;34m\u001b[0m\u001b[0;34m\u001b[0m\u001b[0m\n\u001b[0m\u001b[1;32m      4\u001b[0m \u001b[0;32mimport\u001b[0m \u001b[0mnumpy\u001b[0m \u001b[0;32mas\u001b[0m \u001b[0mnp\u001b[0m\u001b[0;34m\u001b[0m\u001b[0;34m\u001b[0m\u001b[0m\n\u001b[1;32m      5\u001b[0m \u001b[0;32mimport\u001b[0m \u001b[0mpandas\u001b[0m \u001b[0;32mas\u001b[0m \u001b[0mpd\u001b[0m\u001b[0;34m\u001b[0m\u001b[0;34m\u001b[0m\u001b[0m\n",
            "\u001b[0;32m/usr/local/lib/python3.6/dist-packages/vaex/__init__.py\u001b[0m in \u001b[0;36m<module>\u001b[0;34m()\u001b[0m\n\u001b[1;32m     65\u001b[0m     \u001b[0;32mraise\u001b[0m\u001b[0;34m\u001b[0m\u001b[0;34m\u001b[0m\u001b[0m\n\u001b[1;32m     66\u001b[0m \u001b[0;34m\u001b[0m\u001b[0m\n\u001b[0;32m---> 67\u001b[0;31m \u001b[0m__version__\u001b[0m \u001b[0;34m=\u001b[0m \u001b[0mversion\u001b[0m\u001b[0;34m.\u001b[0m\u001b[0mget_versions\u001b[0m\u001b[0;34m(\u001b[0m\u001b[0;34m)\u001b[0m\u001b[0;34m\u001b[0m\u001b[0;34m\u001b[0m\u001b[0m\n\u001b[0m\u001b[1;32m     68\u001b[0m \u001b[0;34m\u001b[0m\u001b[0m\n\u001b[1;32m     69\u001b[0m \u001b[0;34m\u001b[0m\u001b[0m\n",
            "\u001b[0;32m/usr/local/lib/python3.6/dist-packages/vaex/version.py\u001b[0m in \u001b[0;36mget_versions\u001b[0;34m()\u001b[0m\n\u001b[1;32m     13\u001b[0m         \u001b[0;32mexcept\u001b[0m \u001b[0mpkg_resources\u001b[0m\u001b[0;34m.\u001b[0m\u001b[0mDistributionNotFound\u001b[0m\u001b[0;34m:\u001b[0m\u001b[0;34m\u001b[0m\u001b[0;34m\u001b[0m\u001b[0m\n\u001b[1;32m     14\u001b[0m             \u001b[0;32mreturn\u001b[0m \u001b[0;32mFalse\u001b[0m\u001b[0;34m\u001b[0m\u001b[0;34m\u001b[0m\u001b[0m\n\u001b[0;32m---> 15\u001b[0;31m     \u001b[0;32mreturn\u001b[0m \u001b[0;34m{\u001b[0m\u001b[0mp\u001b[0m\u001b[0;34m:\u001b[0m \u001b[0mpkg_resources\u001b[0m\u001b[0;34m.\u001b[0m\u001b[0mget_distribution\u001b[0m\u001b[0;34m(\u001b[0m\u001b[0mp\u001b[0m\u001b[0;34m)\u001b[0m\u001b[0;34m.\u001b[0m\u001b[0mversion\u001b[0m \u001b[0;32mfor\u001b[0m \u001b[0mp\u001b[0m \u001b[0;32min\u001b[0m \u001b[0mpackages\u001b[0m \u001b[0;32mif\u001b[0m \u001b[0mis_installed\u001b[0m\u001b[0;34m(\u001b[0m\u001b[0mp\u001b[0m\u001b[0;34m)\u001b[0m\u001b[0;34m}\u001b[0m\u001b[0;34m\u001b[0m\u001b[0;34m\u001b[0m\u001b[0m\n\u001b[0m",
            "\u001b[0;32m/usr/local/lib/python3.6/dist-packages/vaex/version.py\u001b[0m in \u001b[0;36m<dictcomp>\u001b[0;34m(.0)\u001b[0m\n\u001b[1;32m     13\u001b[0m         \u001b[0;32mexcept\u001b[0m \u001b[0mpkg_resources\u001b[0m\u001b[0;34m.\u001b[0m\u001b[0mDistributionNotFound\u001b[0m\u001b[0;34m:\u001b[0m\u001b[0;34m\u001b[0m\u001b[0;34m\u001b[0m\u001b[0m\n\u001b[1;32m     14\u001b[0m             \u001b[0;32mreturn\u001b[0m \u001b[0;32mFalse\u001b[0m\u001b[0;34m\u001b[0m\u001b[0;34m\u001b[0m\u001b[0m\n\u001b[0;32m---> 15\u001b[0;31m     \u001b[0;32mreturn\u001b[0m \u001b[0;34m{\u001b[0m\u001b[0mp\u001b[0m\u001b[0;34m:\u001b[0m \u001b[0mpkg_resources\u001b[0m\u001b[0;34m.\u001b[0m\u001b[0mget_distribution\u001b[0m\u001b[0;34m(\u001b[0m\u001b[0mp\u001b[0m\u001b[0;34m)\u001b[0m\u001b[0;34m.\u001b[0m\u001b[0mversion\u001b[0m \u001b[0;32mfor\u001b[0m \u001b[0mp\u001b[0m \u001b[0;32min\u001b[0m \u001b[0mpackages\u001b[0m \u001b[0;32mif\u001b[0m \u001b[0mis_installed\u001b[0m\u001b[0;34m(\u001b[0m\u001b[0mp\u001b[0m\u001b[0;34m)\u001b[0m\u001b[0;34m}\u001b[0m\u001b[0;34m\u001b[0m\u001b[0;34m\u001b[0m\u001b[0m\n\u001b[0m",
            "\u001b[0;32m/usr/local/lib/python3.6/dist-packages/vaex/version.py\u001b[0m in \u001b[0;36mis_installed\u001b[0;34m(p)\u001b[0m\n\u001b[1;32m      9\u001b[0m     \u001b[0;32mdef\u001b[0m \u001b[0mis_installed\u001b[0m\u001b[0;34m(\u001b[0m\u001b[0mp\u001b[0m\u001b[0;34m)\u001b[0m\u001b[0;34m:\u001b[0m\u001b[0;34m\u001b[0m\u001b[0;34m\u001b[0m\u001b[0m\n\u001b[1;32m     10\u001b[0m         \u001b[0;32mtry\u001b[0m\u001b[0;34m:\u001b[0m\u001b[0;34m\u001b[0m\u001b[0;34m\u001b[0m\u001b[0m\n\u001b[0;32m---> 11\u001b[0;31m             \u001b[0mpkg_resources\u001b[0m\u001b[0;34m.\u001b[0m\u001b[0mget_distribution\u001b[0m\u001b[0;34m(\u001b[0m\u001b[0mp\u001b[0m\u001b[0;34m)\u001b[0m\u001b[0;34m\u001b[0m\u001b[0;34m\u001b[0m\u001b[0m\n\u001b[0m\u001b[1;32m     12\u001b[0m             \u001b[0;32mreturn\u001b[0m \u001b[0;32mTrue\u001b[0m\u001b[0;34m\u001b[0m\u001b[0;34m\u001b[0m\u001b[0m\n\u001b[1;32m     13\u001b[0m         \u001b[0;32mexcept\u001b[0m \u001b[0mpkg_resources\u001b[0m\u001b[0;34m.\u001b[0m\u001b[0mDistributionNotFound\u001b[0m\u001b[0;34m:\u001b[0m\u001b[0;34m\u001b[0m\u001b[0;34m\u001b[0m\u001b[0m\n",
            "\u001b[0;32m/usr/local/lib/python3.6/dist-packages/pkg_resources/__init__.py\u001b[0m in \u001b[0;36mget_distribution\u001b[0;34m(dist)\u001b[0m\n\u001b[1;32m    479\u001b[0m         \u001b[0mdist\u001b[0m \u001b[0;34m=\u001b[0m \u001b[0mRequirement\u001b[0m\u001b[0;34m.\u001b[0m\u001b[0mparse\u001b[0m\u001b[0;34m(\u001b[0m\u001b[0mdist\u001b[0m\u001b[0;34m)\u001b[0m\u001b[0;34m\u001b[0m\u001b[0;34m\u001b[0m\u001b[0m\n\u001b[1;32m    480\u001b[0m     \u001b[0;32mif\u001b[0m \u001b[0misinstance\u001b[0m\u001b[0;34m(\u001b[0m\u001b[0mdist\u001b[0m\u001b[0;34m,\u001b[0m \u001b[0mRequirement\u001b[0m\u001b[0;34m)\u001b[0m\u001b[0;34m:\u001b[0m\u001b[0;34m\u001b[0m\u001b[0;34m\u001b[0m\u001b[0m\n\u001b[0;32m--> 481\u001b[0;31m         \u001b[0mdist\u001b[0m \u001b[0;34m=\u001b[0m \u001b[0mget_provider\u001b[0m\u001b[0;34m(\u001b[0m\u001b[0mdist\u001b[0m\u001b[0;34m)\u001b[0m\u001b[0;34m\u001b[0m\u001b[0;34m\u001b[0m\u001b[0m\n\u001b[0m\u001b[1;32m    482\u001b[0m     \u001b[0;32mif\u001b[0m \u001b[0;32mnot\u001b[0m \u001b[0misinstance\u001b[0m\u001b[0;34m(\u001b[0m\u001b[0mdist\u001b[0m\u001b[0;34m,\u001b[0m \u001b[0mDistribution\u001b[0m\u001b[0;34m)\u001b[0m\u001b[0;34m:\u001b[0m\u001b[0;34m\u001b[0m\u001b[0;34m\u001b[0m\u001b[0m\n\u001b[1;32m    483\u001b[0m         \u001b[0;32mraise\u001b[0m \u001b[0mTypeError\u001b[0m\u001b[0;34m(\u001b[0m\u001b[0;34m\"Expected string, Requirement, or Distribution\"\u001b[0m\u001b[0;34m,\u001b[0m \u001b[0mdist\u001b[0m\u001b[0;34m)\u001b[0m\u001b[0;34m\u001b[0m\u001b[0;34m\u001b[0m\u001b[0m\n",
            "\u001b[0;32m/usr/local/lib/python3.6/dist-packages/pkg_resources/__init__.py\u001b[0m in \u001b[0;36mget_provider\u001b[0;34m(moduleOrReq)\u001b[0m\n\u001b[1;32m    355\u001b[0m     \u001b[0;34m\"\"\"Return an IResourceProvider for the named module or requirement\"\"\"\u001b[0m\u001b[0;34m\u001b[0m\u001b[0;34m\u001b[0m\u001b[0m\n\u001b[1;32m    356\u001b[0m     \u001b[0;32mif\u001b[0m \u001b[0misinstance\u001b[0m\u001b[0;34m(\u001b[0m\u001b[0mmoduleOrReq\u001b[0m\u001b[0;34m,\u001b[0m \u001b[0mRequirement\u001b[0m\u001b[0;34m)\u001b[0m\u001b[0;34m:\u001b[0m\u001b[0;34m\u001b[0m\u001b[0;34m\u001b[0m\u001b[0m\n\u001b[0;32m--> 357\u001b[0;31m         \u001b[0;32mreturn\u001b[0m \u001b[0mworking_set\u001b[0m\u001b[0;34m.\u001b[0m\u001b[0mfind\u001b[0m\u001b[0;34m(\u001b[0m\u001b[0mmoduleOrReq\u001b[0m\u001b[0;34m)\u001b[0m \u001b[0;32mor\u001b[0m \u001b[0mrequire\u001b[0m\u001b[0;34m(\u001b[0m\u001b[0mstr\u001b[0m\u001b[0;34m(\u001b[0m\u001b[0mmoduleOrReq\u001b[0m\u001b[0;34m)\u001b[0m\u001b[0;34m)\u001b[0m\u001b[0;34m[\u001b[0m\u001b[0;36m0\u001b[0m\u001b[0;34m]\u001b[0m\u001b[0;34m\u001b[0m\u001b[0;34m\u001b[0m\u001b[0m\n\u001b[0m\u001b[1;32m    358\u001b[0m     \u001b[0;32mtry\u001b[0m\u001b[0;34m:\u001b[0m\u001b[0;34m\u001b[0m\u001b[0;34m\u001b[0m\u001b[0m\n\u001b[1;32m    359\u001b[0m         \u001b[0mmodule\u001b[0m \u001b[0;34m=\u001b[0m \u001b[0msys\u001b[0m\u001b[0;34m.\u001b[0m\u001b[0mmodules\u001b[0m\u001b[0;34m[\u001b[0m\u001b[0mmoduleOrReq\u001b[0m\u001b[0;34m]\u001b[0m\u001b[0;34m\u001b[0m\u001b[0;34m\u001b[0m\u001b[0m\n",
            "\u001b[0;32m/usr/local/lib/python3.6/dist-packages/pkg_resources/__init__.py\u001b[0m in \u001b[0;36mrequire\u001b[0;34m(self, *requirements)\u001b[0m\n\u001b[1;32m    898\u001b[0m         \u001b[0mincluded\u001b[0m\u001b[0;34m,\u001b[0m \u001b[0meven\u001b[0m \u001b[0;32mif\u001b[0m \u001b[0mthey\u001b[0m \u001b[0mwere\u001b[0m \u001b[0malready\u001b[0m \u001b[0mactivated\u001b[0m \u001b[0;32min\u001b[0m \u001b[0mthis\u001b[0m \u001b[0mworking\u001b[0m \u001b[0mset\u001b[0m\u001b[0;34m.\u001b[0m\u001b[0;34m\u001b[0m\u001b[0;34m\u001b[0m\u001b[0m\n\u001b[1;32m    899\u001b[0m         \"\"\"\n\u001b[0;32m--> 900\u001b[0;31m         \u001b[0mneeded\u001b[0m \u001b[0;34m=\u001b[0m \u001b[0mself\u001b[0m\u001b[0;34m.\u001b[0m\u001b[0mresolve\u001b[0m\u001b[0;34m(\u001b[0m\u001b[0mparse_requirements\u001b[0m\u001b[0;34m(\u001b[0m\u001b[0mrequirements\u001b[0m\u001b[0;34m)\u001b[0m\u001b[0;34m)\u001b[0m\u001b[0;34m\u001b[0m\u001b[0;34m\u001b[0m\u001b[0m\n\u001b[0m\u001b[1;32m    901\u001b[0m \u001b[0;34m\u001b[0m\u001b[0m\n\u001b[1;32m    902\u001b[0m         \u001b[0;32mfor\u001b[0m \u001b[0mdist\u001b[0m \u001b[0;32min\u001b[0m \u001b[0mneeded\u001b[0m\u001b[0;34m:\u001b[0m\u001b[0;34m\u001b[0m\u001b[0;34m\u001b[0m\u001b[0m\n",
            "\u001b[0;32m/usr/local/lib/python3.6/dist-packages/pkg_resources/__init__.py\u001b[0m in \u001b[0;36mresolve\u001b[0;34m(self, requirements, env, installer, replace_conflicting, extras)\u001b[0m\n\u001b[1;32m    789\u001b[0m                 \u001b[0;31m# Oops, the \"best\" so far conflicts with a dependency\u001b[0m\u001b[0;34m\u001b[0m\u001b[0;34m\u001b[0m\u001b[0;34m\u001b[0m\u001b[0m\n\u001b[1;32m    790\u001b[0m                 \u001b[0mdependent_req\u001b[0m \u001b[0;34m=\u001b[0m \u001b[0mrequired_by\u001b[0m\u001b[0;34m[\u001b[0m\u001b[0mreq\u001b[0m\u001b[0;34m]\u001b[0m\u001b[0;34m\u001b[0m\u001b[0;34m\u001b[0m\u001b[0m\n\u001b[0;32m--> 791\u001b[0;31m                 \u001b[0;32mraise\u001b[0m \u001b[0mVersionConflict\u001b[0m\u001b[0;34m(\u001b[0m\u001b[0mdist\u001b[0m\u001b[0;34m,\u001b[0m \u001b[0mreq\u001b[0m\u001b[0;34m)\u001b[0m\u001b[0;34m.\u001b[0m\u001b[0mwith_context\u001b[0m\u001b[0;34m(\u001b[0m\u001b[0mdependent_req\u001b[0m\u001b[0;34m)\u001b[0m\u001b[0;34m\u001b[0m\u001b[0;34m\u001b[0m\u001b[0m\n\u001b[0m\u001b[1;32m    792\u001b[0m \u001b[0;34m\u001b[0m\u001b[0m\n\u001b[1;32m    793\u001b[0m             \u001b[0;31m# push the new requirements onto the stack\u001b[0m\u001b[0;34m\u001b[0m\u001b[0;34m\u001b[0m\u001b[0;34m\u001b[0m\u001b[0m\n",
            "\u001b[0;31mContextualVersionConflict\u001b[0m: (pyarrow 0.14.1 (/usr/local/lib/python3.6/dist-packages), Requirement.parse('pyarrow>=0.15'), {'vaex-arrow'})"
          ]
        }
      ]
    },
    {
      "cell_type": "markdown",
      "metadata": {
        "id": "Wi_fVyI5DDrt",
        "colab_type": "text"
      },
      "source": [
        "##Evite runtime errors, USE print(df) \n",
        "En vaex trabajando en COLAB head, describe no producen salida alguna  o pueden  generar errores.\n",
        "para evitarlos, uselos dentro de un comando print() \n",
        "Ejemplos => \n",
        "* print(df),  \n",
        "* print(df.describe()), \n",
        "* print(df.head(10)).\n",
        "\n",
        "En COLAB y JUPYTER el comando **df.info()** si funciona pero print(df.info()) tiene igual salida."
      ]
    },
    {
      "cell_type": "markdown",
      "metadata": {
        "id": "nQT43rRkZ1Mk",
        "colab_type": "text"
      },
      "source": [
        "##EJEMPLO: mi primer dataframe de vaex"
      ]
    },
    {
      "cell_type": "code",
      "metadata": {
        "id": "qqaXU2lMBvXW",
        "colab_type": "code",
        "colab": {}
      },
      "source": [
        "#EJEMPLO DE VAEX A PARTIR DE ARRAYS\n",
        "import vaex as pdv\n",
        "import numpy as np\n",
        "import pandas as pd\n",
        "\n",
        "array1 = np.arange(8) # [0, 1....7]\n",
        "array2 = array1**3    # los cubos\n",
        "array3 = array2%10    # los residuos de modulo 10 en los cubos \n",
        "df = pdv.from_arrays(x=array1, y=array2,z=array3)\n",
        "\n",
        "print(df)\n",
        "print( \"df es type: \", type(df))\n",
        "\n",
        "print(\"resultado describe, estadisticas por columna\\n\" ,df.describe())\n"
      ],
      "execution_count": null,
      "outputs": []
    },
    {
      "cell_type": "markdown",
      "metadata": {
        "id": "2y8aTFphcn_Q",
        "colab_type": "text"
      },
      "source": [
        "##Zona de pruebas: Celda para aprender a hacer Sorting \n",
        "\n",
        "Ordenamos el dataframe de ejemplo por su columna respecto a su columna 'z'"
      ]
    },
    {
      "cell_type": "code",
      "metadata": {
        "id": "H65LriiwcnZV",
        "colab_type": "code",
        "colab": {}
      },
      "source": [
        "# Sort dataframe by \" a given column\n",
        "# EN VAEX el metodo es SORT(),  EN PANDAS es  sort_values(),\n",
        "# Diferencias: Nunca se hace in-place , el integer_index es reasignado, sort_method optional\n",
        "#df_vaex.sort(by=, ascending=True, kind='quicksort')\n",
        "\n",
        "print(\"Ordenando  by column \\'z\\'\")\n",
        "dfs = df.sort(by='z', ascending=True, kind='quicksort')\n",
        "\n",
        "print(\"el nuevo dfs es:\")\n",
        "print(dfs)"
      ],
      "execution_count": null,
      "outputs": []
    },
    {
      "cell_type": "markdown",
      "metadata": {
        "id": "BFRSvKPoZyBB",
        "colab_type": "text"
      },
      "source": [
        "##Quick Setup COLAB-GDrive: cómo usar mi drive en mis cuadernos COLAB\n",
        "Leeremos este archivo (134MB)shared by E. Silva from his GDrive.\n",
        "\n",
        "https://drive.google.com/open?id=1flYy1lrdBejj2-H2U6xWoSJWO2F0a9bL\n"
      ]
    },
    {
      "cell_type": "code",
      "metadata": {
        "id": "MVgfdvfTVaNq",
        "colab_type": "code",
        "colab": {}
      },
      "source": [
        "from google.colab import drive  # solo importamos submodulo drive.\n",
        "#from math import sqrt, sin     # solo importamos funciones raizcuadrada y seno\n",
        "\n",
        "#Se carga su Gdrive con el comando siguiente, y solo se hace una vez por notebook y por sesion\n",
        "drive.mount('/content/drive')\n",
        "#Paso 1 : El comando anterior genera un enlace para autenticarse su cuenta google,\n",
        "#Paso 2: Al tener exito alli recibe un token que debe copiar \n",
        "#Paso 3: Pegar el token en el la solicitud de input que apareció en el resultado de esta celda\n",
        "#1.The previous cmd outputs a link, openclick it and authentify your google-user.\n",
        "#2. After succesful auth, It will output a TOKEN password on the auth-page.Copy it\n",
        "#3. Paste the obtained token on the input-stream appearing  as output of this cell"
      ],
      "execution_count": null,
      "outputs": []
    },
    {
      "cell_type": "markdown",
      "metadata": {
        "id": "vI63i8JDbLrT",
        "colab_type": "text"
      },
      "source": [
        "## Cargando un archivo en dataframe de vaex#\n",
        "\n",
        "Ejemplo:  Archivo muy grande para PANDAS! un read_csv saturaría toda  la memoria-ram colapsando un pc normal."
      ]
    },
    {
      "cell_type": "code",
      "metadata": {
        "id": "wCLMW5PXYJCS",
        "colab_type": "code",
        "colab": {}
      },
      "source": [
        "path = \"/content/drive/My Drive/Colab Notebooks/clase.csv\"\n",
        "#df_bonus = pd.read_csv(path) too big file for pandas\n",
        "import vaex as pdv\n",
        "import numpy as np\n",
        "\n",
        "dfv=pdv.read_csv(path)\n",
        "dfv.info()\n",
        "dfv.head(5)"
      ],
      "execution_count": null,
      "outputs": []
    },
    {
      "cell_type": "markdown",
      "metadata": {
        "id": "GP-tzZElcdrg",
        "colab_type": "text"
      },
      "source": [
        "## Ejemplo 1: Ordenando el archivo por fechas\n",
        "Lo haremos en 2 etapas:\n",
        "1.   Cambiar el tipo  de la columna \"Tiempo Sistema\"(string)  a formato fecha (numpy-datetime64 float) en una nueva columna \"newdate\"\n",
        "2.   Ordenar el dataframe en base a la nueva columna \"newdate\""
      ]
    },
    {
      "cell_type": "code",
      "metadata": {
        "id": "NhQvSamqbYPO",
        "colab_type": "code",
        "colab": {}
      },
      "source": [
        "\n",
        "#-----------preambulo Etapa 1-----------------\n",
        "x='3+5j' #x es un string \n",
        "print(\"tipo de x\",type(x))\n",
        "print(x)\n",
        "x= np.array([x])  #ahora x es un numpy array de tipo string\n",
        "# .astype es un metodo de numpy para poder cambiar entre tipos.\n",
        "xcomp=x.astype(complex)  # ahora xcomp es numpy array de tipocomplejo\n",
        "print(\"tipo de xcomp\",type(xcomp))\n",
        "print(xcomp)\n",
        "\n",
        "#-----------Etapa 1 convertir columna  y crear nueva columna------------\n",
        "#datos en el dataframe dfv.\n",
        "dfv['newdate']=dfv['Tiempo Sistema'].values.astype('datetime64[ns]')\n",
        "\n",
        "#en pandas df['Tiempo Sistema']=pd.to_datetime(df['Tiempo Sistema'])\n",
        "\n",
        "#----un MINI test Etapa1---filtrar las  rows desde Abril 30 de 2020----\n",
        "#start_date = np.datetime64('2020-04-30')# use numpy.datetime64 not datetime64\n",
        "#dfv_test=dfv[( dfv.newdate >= start_date )]  #tomando las filas confechas posteriores\n",
        "#print(\"verificamos el  dfv_test filtrado  abril-30-2020 es:\\n\")\n",
        "#print(dfv_test.info())\n",
        "\n",
        "#--------------Etapa 2\n",
        "print(\"El  dataframe dfv original es:\\n\")\n",
        "print(dfv.head(5))\n",
        "print(\"\\nNOW SORTING by column date  \\'newdate\\':\\n \")\n",
        "# vaex dataframe method :sort: NOT sort_values(pandas),\n",
        "# DIFFS: Never done inplace, integer_index -> reasignado, sortmethod optional\n",
        "#df.sort(by, ascending=True, kind='quicksort')\n",
        "dfv_sorted=  dfv.sort(by='newdate', ascending=True, kind='quicksort')\n",
        "print(\"el nuevo dfv_sorted es:\\n\")\n",
        "print(dfv_sorted.head(5))\n",
        "\n",
        "\n"
      ],
      "execution_count": null,
      "outputs": []
    },
    {
      "cell_type": "markdown",
      "metadata": {
        "id": "R3zRfwk4Pfi4",
        "colab_type": "text"
      },
      "source": [
        "## Ejemplo 2: Aplicando una función a una columna"
      ]
    },
    {
      "cell_type": "markdown",
      "metadata": {
        "id": "in1bvnJZfDUH",
        "colab_type": "text"
      },
      "source": [
        "###(1a parte): Declarando la funcion de conversion de temperatura###"
      ]
    },
    {
      "cell_type": "code",
      "metadata": {
        "id": "1F6A-5p2Pi1L",
        "colab_type": "code",
        "colab": {}
      },
      "source": [
        "def unit_change_temperature(t_old): # F a celsius\n",
        "  return (t_old/10.0 - 32) * (5/9)\n",
        "\n",
        "temp=10\n",
        "print(f'test:{temp}F es {unit_change_temperature(temp)}C')"
      ],
      "execution_count": null,
      "outputs": []
    },
    {
      "cell_type": "markdown",
      "metadata": {
        "id": "pYAFG7FNQtMn",
        "colab_type": "text"
      },
      "source": [
        "###(2a parte): Aplicando la función a una columna en Vaex###\n",
        "La aplicacióń difiere un poco de pandas que tiene map(),applymap(), apply()"
      ]
    },
    {
      "cell_type": "code",
      "metadata": {
        "id": "KcH3MmTXRVfh",
        "colab_type": "code",
        "colab": {}
      },
      "source": [
        "#Creacion de una nuevacolumna aplicando nuestra funcion \n",
        "dfv_sorted['newtemp'] = unit_change_temperature(dfv['Outside Temperature']) # convierte temperatura"
      ],
      "execution_count": null,
      "outputs": []
    },
    {
      "cell_type": "markdown",
      "metadata": {
        "id": "6KO7IHkbUuyB",
        "colab_type": "text"
      },
      "source": [
        "## Ejemplo 3: Histogramas desde VAEX (Matplotlib API)## \n",
        "\n",
        "* Para crear grááficas  y mostrarlas vaex no necesita importar matplotlib explicitamente.\n",
        "\n",
        "* **NOTA**: Aquí se importa matplotlib explicitamente para poder interactuar con la grááfica directamente, por ejemplo ponerle titulo, modificar los ejes o guardar la figura fuera del notebook.\n",
        "\n",
        "* En tal caso se invoca plt.sca(ax1) antes de proceder a graficar desde el vaex-API\n",
        "\n",
        "[Más detalles de control del gráfico de salida aquí]( https://docs.vaex.io/en/latest/tutorial.html#In-control)"
      ]
    },
    {
      "cell_type": "code",
      "metadata": {
        "id": "dWrlyokrUzb0",
        "colab_type": "code",
        "colab": {}
      },
      "source": [
        "import matplotlib.pyplot as plt\n",
        "fig,ax1=plt.subplots(figsize=(8,5))\n",
        "\n",
        "#Para hablarle a vaex cuando grafique indicamos plt.sca(your_ax)\n",
        "plt.sca(ax1)\n",
        "\n",
        "#plot1d de VAEX dataframe\n",
        "dfv_sorted.plot1d(dfv_sorted['newtemp'], limits='99.7%')\n",
        "ax1.set_title(\"Histograma con +540K rows en miliseconds crazy!\") \n",
        "\n",
        "plt.legend()\n",
        "fig.savefig('example.png')\n",
        "plt.show()"
      ],
      "execution_count": null,
      "outputs": []
    },
    {
      "cell_type": "markdown",
      "metadata": {
        "id": "yc1wDtdpfhG4",
        "colab_type": "text"
      },
      "source": [
        "## Ejemplo 4: Desde VAEX-df se puede guardar o extraer un  PANDAS df\n",
        "1. Extraemos unas filas a dataframe de Pandas\n",
        "2. Aplicamos nuestra funcion a una columna de pandas con map()\n",
        "(Si aun tiene dudas cual es la distinción entre : map, applymap y apply , ver más info en [éste tutorial de interactive chaos](https://www.interactivechaos.com/manual/tutorial-de-pandas/aplicacion-de-funciones-y-mapeado) )\n",
        "3. Usamos la API  de Pandas para matplotlib directamente (muy util!)\n",
        "([ver la doc de la API de pandas aquí](https://pandas.pydata.org/docs/user_guide/visualization.html#visualization-hist)). \n",
        "\n",
        "**Nota** No obstante, Plotly y Bokeh,(dos de las librerias python de visualizaciones interactivas y más modernas) ya ofrecen ahora backend para Pandas, es decir, es posible ahora  graficar desde pandas con ellas, aunque su uso en Colab Notebooks puede tener algunas"
      ]
    },
    {
      "cell_type": "code",
      "metadata": {
        "id": "wLehS7kNQVIH",
        "colab_type": "code",
        "colab": {}
      },
      "source": [
        "import pandas as pd\n",
        "\n",
        "#1. Extraccion de 10000 filas y dos columnas del dfv en VAEX hacia un df de pandas\n",
        "pandasdf= dfv_sorted[0:1000].to_pandas_df(column_names=['newdate', 'Outside Temperature'])\n",
        "\n",
        "#2. Aplicamos  la funcion a la columna de outside para crear una nueva columna\n",
        "pandasdf['new_temperature']=pandasdf['Outside Temperature'].map(unit_change_temperature)\n",
        "\n",
        "pandasdf.info()# verificamos las 3 columnas\n",
        "pandasdf.head(5) # como se ven algunos datos \n",
        "\n",
        "#3. Usamos la API de pandas para un histograma directo de una columna\n",
        "pandasdf.hist('new_temperature') # la integracion de pandas con matplotlib es muy util"
      ],
      "execution_count": null,
      "outputs": []
    },
    {
      "cell_type": "markdown",
      "metadata": {
        "id": "DXhhPpF6WD4v",
        "colab_type": "text"
      },
      "source": [
        "##Ejemplo 5: Algunas selecciones de datos y gráficos de fechas en Vaex"
      ]
    },
    {
      "cell_type": "code",
      "metadata": {
        "id": "7spY-e-qWUwM",
        "colab_type": "code",
        "colab": {}
      },
      "source": [
        ""
      ],
      "execution_count": null,
      "outputs": []
    }
  ]
}