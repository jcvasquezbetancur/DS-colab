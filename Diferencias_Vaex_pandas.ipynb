{
  "nbformat": 4,
  "nbformat_minor": 0,
  "metadata": {
    "colab": {
      "name": "Diferencias Vaex-pandas.ipynb",
      "provenance": [],
      "include_colab_link": true
    },
    "kernelspec": {
      "name": "python3",
      "display_name": "Python 3"
    }
  },
  "cells": [
    {
      "cell_type": "markdown",
      "metadata": {
        "id": "view-in-github",
        "colab_type": "text"
      },
      "source": [
        "<a href=\"https://colab.research.google.com/github/jcvasquezbetancur/DS-colab/blob/master/Diferencias_Vaex_pandas.ipynb\" target=\"_parent\"><img src=\"https://colab.research.google.com/assets/colab-badge.svg\" alt=\"Open In Colab\"/></a>"
      ]
    },
    {
      "cell_type": "markdown",
      "metadata": {
        "id": "KJQ6g-gOEWx7",
        "colab_type": "text"
      },
      "source": [
        "#SETUP Vaex (sólo para COLAB)\n",
        "\n",
        "*   La opcion --quiet evita llenar el output con reporte con dependencias \n",
        "*   Colab es por defecto Ipython ver5.5, Vaex requiere minimo ver7.0 (se instala ver7.15) \n",
        "*   Sin --quiet COLAB emite warning de posible inestabilidad de notebook fuera de ver5.5  \n",
        "(quizas relevante si al graficar aparece algun crash, por ahora todo OK) \n",
        "\n",
        "\n"
      ]
    },
    {
      "cell_type": "code",
      "metadata": {
        "id": "zqibblq4GKCG",
        "colab_type": "code",
        "colab": {}
      },
      "source": [
        "!pip install \"ipython>6\" --quiet"
      ],
      "execution_count": 0,
      "outputs": []
    },
    {
      "cell_type": "code",
      "metadata": {
        "id": "b-UxBizPI612",
        "colab_type": "code",
        "colab": {}
      },
      "source": [
        "!pip install vaex --quiet"
      ],
      "execution_count": 0,
      "outputs": []
    },
    {
      "cell_type": "markdown",
      "metadata": {
        "id": "YizDQrOGECk-",
        "colab_type": "text"
      },
      "source": [
        "#LECTURA Y ANEXADO DE DATAFRAMES (Datascience es muy cool!)\n",
        "\n",
        "Inspirado por **Esteban Silva**\n",
        "\n",
        "Ajustado por **Juan C. Vasquez**\n",
        "\n",
        "Revisado por **Sheryl Avendaño** (agregar y testear %timeit u otros)\n",
        "\n",
        "**Tutorial recomendado: **\n",
        "\n",
        "[ *Kaggle Notebook in Vaex*(Astro NGC628 && 7793)](https://https://www.kaggle.com/salmanhiro/eda-tutorial-using-vaex/notebook) "
      ]
    },
    {
      "cell_type": "code",
      "metadata": {
        "id": "7NzyxWkDRSPP",
        "colab_type": "code",
        "colab": {}
      },
      "source": [
        "#IMPORTAMOS as pd y pdv para comparar pandas y vaex\n",
        "import pandas as pd\n",
        "import vaex as pdv"
      ],
      "execution_count": 0,
      "outputs": []
    },
    {
      "cell_type": "code",
      "metadata": {
        "id": "-kRthNmORT78",
        "colab_type": "code",
        "outputId": "eb2e6239-52e5-4a9b-b2d3-a9d8ba66e88e",
        "colab": {
          "base_uri": "https://localhost:8080/",
          "height": 52
        }
      },
      "source": [
        "#usando un archivo de datos por defecto  de COLAB\n",
        "path='sample_data'\n",
        "filename='california_housing_test.csv'\n",
        "\n",
        "#para leer txt estructurado en pandas read_csv IDENTICO\n",
        "df = pd.read_csv(path+'/'+filename) \n",
        "dfv = pdv.read_csv(path+'/'+filename) # vaex twin dataframe\n",
        "\n",
        "print(\"Clase de df:\", type(df))\n",
        "print(\"Clase de dfv:\", type(dfv))"
      ],
      "execution_count": 0,
      "outputs": [
        {
          "output_type": "stream",
          "text": [
            "Clase de df: <class 'pandas.core.frame.DataFrame'>\n",
            "Clase de dfv: <class 'vaex.dataframe.DataFrameArrays'>\n"
          ],
          "name": "stdout"
        }
      ]
    },
    {
      "cell_type": "code",
      "metadata": {
        "id": "gZESuUk-Skg9",
        "colab_type": "code",
        "colab": {}
      },
      "source": [
        ""
      ],
      "execution_count": 0,
      "outputs": []
    },
    {
      "cell_type": "code",
      "metadata": {
        "id": "jgay971_zM56",
        "colab_type": "code",
        "outputId": "e45e7c84-81da-4c07-e6b5-8bdc9a15a473",
        "colab": {
          "base_uri": "https://localhost:8080/",
          "height": 799
        }
      },
      "source": [
        "# seleccion por clave o column_name...NOTA: LOC no existe(aun) en vaex\n",
        "df2=df[['population','households','median_income','median_house_value']]\n",
        "dfv2=dfv[['population','households','median_income','median_house_value']]\n",
        "\n",
        "#declarando empty dataframes PANDAS\n",
        "df0=pd.DataFrame()\n",
        "#declarando empty dataframes VAEX  DISTINTO\n",
        "dfv0=pdv.dataframe # NOTA: PERO este dfv0 empty no se deja concatenar! \n",
        "\n",
        "#Cargando la primera tanda de datos en el df vacio con CONCAT\n",
        "df0=pd.concat([df0,df2])  # concat estandar de pandas( 2 df de argumento)\n",
        "dfv0= dfv2  #ver nota anterior. (no se puede concatenar a vacio!)\n",
        "\n",
        "\n",
        "#APPENDING twice usando concat...DUMMY(facepalm) example usando mismo dataframe \n",
        "for i in [0,1]:\n",
        "  df0=pd.concat([df0,df2]) # concatena estos dos y retorna el nuevo, puede reescribirse\n",
        "  # dfv0=dfv0.concat(dfv2) NO FUNCIONA REESCRITURA: imposible concat sobre el mismo df.\n",
        "  \n",
        "  # Haciendolo a la fibbonacci , con variable swap\n",
        "  dfvnew=dfv0.concat(dfv2) # contatena arg dfv2 al dfv0 y retorna un nuevo df\n",
        "  dfv0= dfvnew  #preparando dfv0 para ser el dummyframe de la proxima iteracion.\n",
        "\n",
        "#verificar que cada dataframe queda igual con 3x3000=9000 rows. IDENTICO \n",
        "#tambien lo sonm metodos base como describe(), head() etc\n",
        "print(df0.info())\n",
        "print(dfv0.info())\n",
        "\n",
        "#sacando promedios de una columna especifica...IDENTICO\n",
        "print(df0.population.mean())\n",
        "print(dfv0.population.mean())\n"
      ],
      "execution_count": 0,
      "outputs": [
        {
          "output_type": "stream",
          "text": [
            "<class 'pandas.core.frame.DataFrame'>\n",
            "Int64Index: 9000 entries, 0 to 2999\n",
            "Data columns (total 4 columns):\n",
            " #   Column              Non-Null Count  Dtype  \n",
            "---  ------              --------------  -----  \n",
            " 0   population          9000 non-null   float64\n",
            " 1   households          9000 non-null   float64\n",
            " 2   median_income       9000 non-null   float64\n",
            " 3   median_house_value  9000 non-null   float64\n",
            "dtypes: float64(4)\n",
            "memory usage: 351.6 KB\n",
            "None\n"
          ],
          "name": "stdout"
        },
        {
          "output_type": "display_data",
          "data": {
            "text/html": [
              "<style>.vaex-description pre {\n",
              "          max-width : 450px;\n",
              "          white-space : nowrap;\n",
              "          overflow : hidden;\n",
              "          text-overflow: ellipsis;\n",
              "        }\n",
              "\n",
              "        .vex-description pre:hover {\n",
              "          max-width : initial;\n",
              "          white-space: pre;\n",
              "        }</style>"
            ],
            "text/plain": [
              "<IPython.core.display.HTML object>"
            ]
          },
          "metadata": {
            "tags": []
          }
        },
        {
          "output_type": "display_data",
          "data": {
            "text/html": [
              "<div><h2>arrays-arrays-arrays</h2> <b>rows</b>: 9,000</div><div><b>path</b>: <i>/has/no/path/arrays-/has/no/path/arrays-/has/no/path/arrays</i></div><h2>Columns:</h2><table class='table-striped'><thead><tr><th>column</th><th>type</th><th>unit</th><th>description</th><th>expression</th></tr></thead><tr><td>population</td><td>float64</td><td></td><td ><pre></pre></td><td></td></tr><tr><td>households</td><td>float64</td><td></td><td ><pre></pre></td><td></td></tr><tr><td>median_income</td><td>float64</td><td></td><td ><pre></pre></td><td></td></tr><tr><td>median_house_value</td><td>float64</td><td></td><td ><pre></pre></td><td></td></tr></table><h2>Data:</h2><table>\n",
              "<thead>\n",
              "<tr><th>#                                </th><th>population  </th><th>households  </th><th>median_income  </th><th>median_house_value  </th></tr>\n",
              "</thead>\n",
              "<tbody>\n",
              "<tr><td><i style='opacity: 0.6'>0</i>    </td><td>1537.0      </td><td>606.0       </td><td>6.6085         </td><td>344700.0            </td></tr>\n",
              "<tr><td><i style='opacity: 0.6'>1</i>    </td><td>809.0       </td><td>277.0       </td><td>3.599          </td><td>176500.0            </td></tr>\n",
              "<tr><td><i style='opacity: 0.6'>2</i>    </td><td>1484.0      </td><td>495.0       </td><td>5.7934         </td><td>270500.0            </td></tr>\n",
              "<tr><td><i style='opacity: 0.6'>3</i>    </td><td>49.0        </td><td>11.0        </td><td>6.1359         </td><td>330000.0            </td></tr>\n",
              "<tr><td><i style='opacity: 0.6'>4</i>    </td><td>850.0       </td><td>237.0       </td><td>2.9375         </td><td>81700.0             </td></tr>\n",
              "<tr><td>...                              </td><td>...         </td><td>...         </td><td>...            </td><td>...                 </td></tr>\n",
              "<tr><td><i style='opacity: 0.6'>8,995</i></td><td>1258.0      </td><td>607.0       </td><td>1.179          </td><td>225000.0            </td></tr>\n",
              "<tr><td><i style='opacity: 0.6'>8,996</i></td><td>3496.0      </td><td>1036.0      </td><td>3.3906         </td><td>237200.0            </td></tr>\n",
              "<tr><td><i style='opacity: 0.6'>8,997</i></td><td>693.0       </td><td>220.0       </td><td>2.2895         </td><td>62000.0             </td></tr>\n",
              "<tr><td><i style='opacity: 0.6'>8,998</i></td><td>46.0        </td><td>14.0        </td><td>3.2708         </td><td>162500.0            </td></tr>\n",
              "<tr><td><i style='opacity: 0.6'>8,999</i></td><td>753.0       </td><td>260.0       </td><td>8.5608         </td><td>500001.0            </td></tr>\n",
              "</tbody>\n",
              "</table>"
            ],
            "text/plain": [
              "<IPython.core.display.HTML object>"
            ]
          },
          "metadata": {
            "tags": []
          }
        },
        {
          "output_type": "stream",
          "text": [
            "None\n",
            "1402.7986666666666\n",
            "1402.7986666666666\n"
          ],
          "name": "stdout"
        }
      ]
    },
    {
      "cell_type": "code",
      "metadata": {
        "id": "jSHtuvpORRB1",
        "colab_type": "code",
        "colab": {}
      },
      "source": [
        ""
      ],
      "execution_count": 0,
      "outputs": []
    }
  ]
}